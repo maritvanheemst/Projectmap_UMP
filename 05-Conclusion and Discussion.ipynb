{
 "cells": [
  {
   "cell_type": "markdown",
   "id": "c84af896-cc4a-4390-9ae9-47c81649c86e",
   "metadata": {},
   "source": [
    "# Conclusion and discussion"
   ]
  },
  {
   "cell_type": "markdown",
   "id": "0ea49783-b057-456f-836c-c0e8f78a5e50",
   "metadata": {},
   "source": [
    "The aim of this study was to identify modifications to deoxyuridine monophosphate (UMP) to enhance its inhibitory effects on thymidylate synthase (TS), with the goal of developing potential compounds for cancer therapies. This was achieved by training several machine learning models. The training of these models faced some limitations due to the restricted amount of available data. Despite this, all models performed well, with the Random Forest model emerging as the best-performing and most reliable for analyzing the created ligands.\n",
    "\n",
    "To gain better insights into the changes, Morgan fingerprints were calculated, and similarity maps, a dendrogram, and a heatmap were created. The ligand with the addition of a fluoride group showed the lowest correlation in the heatmap and had the highest chemical similarity in the dendrogram when compared to the reference ligand. The similarity maps indicated that the addition of a fluoride group significantly altered the ligand compared to the reference, highlighting this modification as a promising approach for creating a new ligand with enhanced inhibition effects. Other ligands with different modifications did not show the same potential.\n",
    "\n",
    "With these findings in mind, the docking procedure was initiated. The results observed after model training and selecting modifications to the UMP ligand indicated an increase in the pChEMBL values for several of the modified ligands. Docking with Vina showed a slight increase in docking energy for the ligand with the addition of fluoride and hydroxyl groups, suggesting that the modified ligand would bind to TS more effectively than the reference ligand.\n",
    "\n",
    "Further research could focus on these modifications, along with other tested alterations, to develop ligands with more favorable pChEMBL and docking energy values, as the desired docking energy of at least -7 kcal/mol was not yet achieved. The biological effects of the ligand with added fluoride and hydroxyl groups could be explored further, possibly using Quantitative Structure-Activity Relationships (QSAR), Comparative Molecular Similarity Index Analysis (CoMSIA), or other machine learning methods. If additional evidence supports these findings, the ligand could be tested in the laboratory.\n",
    "\n",
    "Additional studies should consider using a different docking system than Vina, as the docking procedure did not perform as expected for most ligands. If a more reliable docking method is identified, docking the most promising ligands could be repeated.\n",
    "\n",
    "Future research should also investigate the potential off-target and on-target side effects that could arise. Since the aim of this ligand is to inhibit cell proliferation, there is a significant risk of severe off-target and on-target effects.\n"
   ]
  },
  {
   "cell_type": "code",
   "execution_count": null,
   "id": "100a0ebc-51b2-40bd-85bb-2656c05903e8",
   "metadata": {},
   "outputs": [],
   "source": []
  }
 ],
 "metadata": {
  "kernelspec": {
   "display_name": "Python 3 (ipykernel)",
   "language": "python",
   "name": "python3"
  },
  "language_info": {
   "codemirror_mode": {
    "name": "ipython",
    "version": 3
   },
   "file_extension": ".py",
   "mimetype": "text/x-python",
   "name": "python",
   "nbconvert_exporter": "python",
   "pygments_lexer": "ipython3",
   "version": "3.11.9"
  }
 },
 "nbformat": 4,
 "nbformat_minor": 5
}
