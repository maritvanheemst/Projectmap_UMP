{
 "cells": [
  {
   "cell_type": "markdown",
   "id": "170d557a-7d97-451c-8d6c-b0a10b9e139b",
   "metadata": {},
   "source": [
    "# Abstract\n",
    "Current cancer treatments that inhibit the function of thymidylate synthase (TS), a key enzyme in DNA synthesis and proliferation, have limited effectiveness. This highlights the need for new therapies that more effectively inhibit TS. Due to its crucial role in cell proliferation, TS is a potential therapeutic target for diseases characterized by uncontrolled cell growth, such as cancer. This study aims to identify effective modifications to deoxyuridine monophosphate (UMP) to enhance TS inhibition, utilizing computational methods to support the development of potential cancer therapies. Several models were trained, and, due to its superior performance, the Random Forest model was selected to predict the properties of ligands derived from UMP. The addition of fluorine and hydroxyl groups yielded promising results, showing a predicted increase in energy released during docking and a higher pChEMBL value compared to the original ligand. This modification could serve as a starting point for future studies aimed at creating new cancer therapies that use a ligand to inhibit TS.\n",
    "\n",
    "\n"
   ]
  },
  {
   "cell_type": "code",
   "execution_count": null,
   "id": "4d47abfd",
   "metadata": {},
   "outputs": [],
   "source": []
  },
  {
   "cell_type": "code",
   "execution_count": null,
   "id": "caba8b2c-8013-4610-a1a4-7e4d22eebd37",
   "metadata": {},
   "outputs": [],
   "source": []
  }
 ],
 "metadata": {
  "kernelspec": {
   "display_name": "Python 3 (ipykernel)",
   "language": "python",
   "name": "python3"
  },
  "language_info": {
   "codemirror_mode": {
    "name": "ipython",
    "version": 3
   },
   "file_extension": ".py",
   "mimetype": "text/x-python",
   "name": "python",
   "nbconvert_exporter": "python",
   "pygments_lexer": "ipython3",
   "version": "3.11.9"
  }
 },
 "nbformat": 4,
 "nbformat_minor": 5
}
