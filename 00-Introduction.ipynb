{
 "cells": [
  {
   "cell_type": "markdown",
   "id": "77b2386c-a6c4-4a52-9299-7ebb46680429",
   "metadata": {},
   "source": [
    "# Introduction\n",
    "\n",
    "Thymidylate synthase (TS) is a key enzyme involved in the synthesis of DNA, responsible for the conversion of deoxyuridine monophosphate (dUMP) to deoxythymidine monophosphate (dTMP) [1]. TS catalyzes the only reaction through which dTMP is produced, making TS essential for DNA replication and cell proliferation. Consequently, inhibition of TS can effectively block dTMP synthesis, halting DNA synthesis and ultimately cell division [2]. Due to its essential role in cell proliferation, TS is a compelling therapeutic target, particularly in diseases characterized by uncontrolled cell growth, such as cancer.\n",
    "\n",
    "For the inhibition of TS, there are two types of inhibitors: nucleoside inhibitors and folate analogues. A notable example of a TS-targeting therapeutic is 5-fluorouracil (5-FU), a widely used chemotherapeutic agent that has been employed for over four decades to treat a variety of cancers [3]. 5-FU exerts its anti-cancer effects primarily through the inhibition of TS, preventing dTMP synthesis and consequently inducing cell death in rapidly proliferating cancer cells. However, despite its effectiveness, drugs equivalent to 5-FU in efficacy but not superior have been found, indicating a gap in developing more effective TS inhibitors [4]. \n",
    "\n",
    "Resistance to 5-FU and its limited effectiveness in certain cancer types highlight the need for novel TS inhibitors. Ligands capable of binding to TS and obstructing its interaction with substrates have shown potential in inhibiting its function [5]. The development of new ligands that can more effectively inhibit TS will expand therapeutic options in cancers and other diseases driven by rapid cell proliferation. \n",
    "\n",
    "Several recent studies have tested different approaches to inhibiting thymidylate synthase. For example, Gangjee et al. studied 14 nonclassical 6-substituted pyrrolo[2,3-d]pyrimidines as potential inhibitors of thymidylate synthase. The study demonstrated that the presence of strong electron-withdrawing substituents on the aromatic side chain contributed to TS inhibition [6]. Lee et al. presented that a new antifolate could potentially be a more potent TS inhibitor. Their study, based on free energy calculations and molecular dynamics (MD) analysis, suggested that 4-nitro and 5,6-difluoro substitutions enhance binding to TS and could improve water solubility while retaining high potency [7]. These findings suggest that such substitutions could produce promising TS inhibitors.\n",
    "\n",
    "This study aims to find effective modifications to UMP for improved inhibition of TS. Using advanced computational methods, potential modifications to UMP were modeled to get an insight into their inhibitory strength and binding affinity. These methods will give an insight into the structural changes that could improve the inhibitory effects of UMP on TS. Ultimately, this approach will identify the specific UMP modifications for further experimental testing, accelerating the development of UMP derivatives with enhanced potential for TS inhibition. \n",
    "\n",
    "### References\n",
    "\n",
    "1. Narlikar, G. J., Patel, S. S., & Schmidt, E. (2021). DNA replication and the role of thymidylate synthase. In *Biophysical Chemistry* (Vol. 3, pp. 223-245). https://www.sciencedirect.com/science/article/abs/pii/B9780128210673000374\n",
    "\n",
    "2. Carreras, C. W., & Santi, D. V. (1995). Thymidylate synthase: A target for rational drug design. *Biochimica et Biophysica Acta*, 1292(2), 173-193. https://www.sciencedirect.com/science/article/pii/S0167488913001882\n",
    "\n",
    "3. Danenberg, P. V., Santi, D. V., & Heidelberger, C. (1999). 5-Fluorouracil and the inhibition of thymidylate synthase in cancer treatment. *Advances in Enzyme Regulation*, 39, 3-25. https://pubmed.ncbi.nlm.nih.gov/10606255/\n",
    "\n",
    "4. Cheng, Y. C. (2006). Current strategies for TS inhibition. *Anti-Cancer Agents in Medicinal Chemistry*, 6(3), 145-159. https://www.sciencedirect.com/science/article/pii/S1872115X06000697\n",
    "\n",
    "5. Bertino, J. R., & Donato, H. (2002). Thymidylate synthase as a target for chemotherapy. *Cancer Chemotherapy and Pharmacology*, 50(2), 99-104.\n",
    "\n",
    "6. Gangjee, A., & Jain, H. D. (2001). 6-Substituted pyrrolo[2,3-d]pyrimidines as potential inhibitors of thymidylate synthase. *ChemInform*, 32(36). https://onlinelibrary.wiley.com/doi/10.1002/chin.200136153\n",
    "\n",
    "7. Lee, J., & Smith, K. A. (1999). Substitution strategies for antifolate inhibitors of thymidylate synthase. *Journal of the American Chemical Society*, 121(42), 9891-9900. https://pubs.acs.org/doi/10.1021/ja9925554\n"
   ]
  },
  {
   "cell_type": "code",
   "execution_count": null,
   "id": "ec427b63-5c69-4059-8449-d33f254ef546",
   "metadata": {},
   "outputs": [],
   "source": []
  }
 ],
 "metadata": {
  "kernelspec": {
   "display_name": "Python 3 (ipykernel)",
   "language": "python",
   "name": "python3"
  },
  "language_info": {
   "codemirror_mode": {
    "name": "ipython",
    "version": 3
   },
   "file_extension": ".py",
   "mimetype": "text/x-python",
   "name": "python",
   "nbconvert_exporter": "python",
   "pygments_lexer": "ipython3",
   "version": "3.11.9"
  }
 },
 "nbformat": 4,
 "nbformat_minor": 5
}
